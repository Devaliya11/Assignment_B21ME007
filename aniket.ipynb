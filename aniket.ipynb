{
  "cells": [
    {
      "cell_type": "markdown",
      "metadata": {
        "id": "view-in-github",
        "colab_type": "text"
      },
      "source": [
        "<a href=\"https://colab.research.google.com/github/Devaliya11/Assignment_B21ME007/blob/main/aniket.ipynb\" target=\"_parent\"><img src=\"https://colab.research.google.com/assets/colab-badge.svg\" alt=\"Open In Colab\"/></a>"
      ]
    },
    {
      "cell_type": "code",
      "execution_count": null,
      "metadata": {
        "id": "ZxjhCIc-lX_8"
      },
      "outputs": [],
      "source": [
        "import pandas as pd\n",
        "import numpy as np"
      ]
    },
    {
      "cell_type": "code",
      "execution_count": null,
      "metadata": {
        "id": "PjOyOKjMlYAA"
      },
      "outputs": [],
      "source": [
        "path_of_DPNG = \"/content/DPNG_Master.csv\"\n",
        "path_of_survey_data = \"/content/Survey_Data_1.csv\"\n",
        "path_to_save_matching_data = r\"C:\\Users\\hp\\OneDrive\\Documents\\new_data.csv\"\n",
        "path_to_save_colliding_data = r\"C:\\Users\\hp\\OneDrive\\Documents.csv\"\n"
      ]
    },
    {
      "cell_type": "code",
      "execution_count": 11,
      "metadata": {
        "colab": {
          "base_uri": "https://localhost:8080/"
        },
        "id": "mfIInmaylYAC",
        "outputId": "609dbf66-8b12-4f4b-885a-df52ac0ca746"
      },
      "outputs": [
        {
          "metadata": {
            "tags": null
          },
          "name": "stderr",
          "output_type": "stream",
          "text": [
            "<ipython-input-11-447108795cb4>:2: DtypeWarning: Columns (13) have mixed types. Specify dtype option on import or set low_memory=False.\n",
            "  DPNG = pd.read_csv(path_of_DPNG)\n"
          ]
        },
        {
          "metadata": {
            "tags": null
          },
          "name": "stdout",
          "output_type": "stream",
          "text": [
            "['Sr no', 'APP.Number ', 'BP NO.', 'First Name', 'Middle Name', 'Last Name', 'AREA', 'Plot No.', 'Address 1', 'Address 2', 'Address 3', 'City', 'Postal Code', 'Contact No.', 'Alternate No.', 'METER NO.', 'Plumbing date ', 'Meter Check Flag', 'Original Meter No.', 'Unnamed: 19', 'Mapped Metering Skid ']\n",
            "shape of matching data: (3509, 53)\n",
            "shape of colliding data: (13, 53)\n"
          ]
        }
      ],
      "source": [
        "def matching(path_of_DPNG,path_of_survey_data,path_to_save_matching_data,path_to_save_colliding_data):\n",
        "    DPNG = pd.read_csv(path_of_DPNG)\n",
        "    Data = pd.read_csv(path_of_survey_data)\n",
        "    DPNG_column = list(DPNG.columns)\n",
        "    Data_column=list(Data.columns)\n",
        "    print(DPNG_column)\n",
        "    DPNG = DPNG.to_numpy()\n",
        "    Data = Data.to_numpy()\n",
        "\n",
        "    new_data = []\n",
        "    extra_match_data = []\n",
        "    for idx,i in enumerate(DPNG):\n",
        "        counter = 0\n",
        "        try:\n",
        "            data_to_match = int(i[15])\n",
        "        except ValueError:\n",
        "            continue\n",
        "\n",
        "        for idx2,j in enumerate(Data):\n",
        "\n",
        "            try:\n",
        "                data_provided=int(float(j[7]))\n",
        "            except ValueError:\n",
        "                continue\n",
        "            # data_provided = int(float(j[7]))\n",
        "\n",
        "            if(data_to_match == data_provided):\n",
        "                counter += 1\n",
        "                if(counter>1):\n",
        "                    new_row = np.concatenate((i,j))\n",
        "                    extra_match_data.append(new_row)\n",
        "                else:\n",
        "                    new_row = np.concatenate((i,j))\n",
        "                    new_data.append(new_row)\n",
        "    new_data = np.array(new_data)\n",
        "    extra_match_data = np.array(extra_match_data)\n",
        "    print(\"shape of matching data:\",new_data.shape)\n",
        "    print(\"shape of colliding data:\",extra_match_data.shape)\n",
        "    column = DPNG_column + Data_column\n",
        "    match_data = pd.DataFrame(new_data, columns=column)\n",
        "    colliding_data = pd.DataFrame(extra_match_data, columns=column)\n",
        "    match_data.to_csv(path_to_save_matching_data,index=False)\n",
        "    colliding_data.to_csv(path_to_save_colliding_data,index=False)\n",
        "\n",
        "\n",
        "matching(path_of_DPNG ,path_of_survey_data, path_to_save_matching_data, path_to_save_colliding_data)\n",
        "\n",
        "\n",
        "\n",
        "\n",
        "\n",
        "\n"
      ]
    }
  ],
  "metadata": {
    "kernelspec": {
      "display_name": "Python 3",
      "language": "python",
      "name": "python3"
    },
    "language_info": {
      "codemirror_mode": {
        "name": "ipython",
        "version": 3
      },
      "file_extension": ".py",
      "mimetype": "text/x-python",
      "name": "python",
      "nbconvert_exporter": "python",
      "pygments_lexer": "ipython3",
      "version": "3.10.7"
    },
    "colab": {
      "provenance": [],
      "include_colab_link": true
    }
  },
  "nbformat": 4,
  "nbformat_minor": 0
}